{
 "cells": [
  {
   "cell_type": "code",
   "execution_count": 2,
   "id": "b7f37117-d693-4ee8-99de-595a124e4fa3",
   "metadata": {
    "tags": []
   },
   "outputs": [
    {
     "name": "stdout",
     "output_type": "stream",
     "text": [
      "Requirement already satisfied: salesforce-cdp-connector in /usr/local/lib/python3.8/dist-packages (1.0.9)\n",
      "Requirement already satisfied: pyarrow==4.0.0 in /usr/local/lib/python3.8/dist-packages (from salesforce-cdp-connector) (4.0.0)\n",
      "Requirement already satisfied: requests==2.27.1 in /usr/local/lib/python3.8/dist-packages (from salesforce-cdp-connector) (2.27.1)\n",
      "Requirement already satisfied: pandas==1.3.5 in /usr/local/lib/python3.8/dist-packages (from salesforce-cdp-connector) (1.3.5)\n",
      "Requirement already satisfied: numpy==1.22.2 in /usr/local/lib/python3.8/dist-packages (from salesforce-cdp-connector) (1.22.2)\n",
      "Requirement already satisfied: pytz==2021.3 in /usr/local/lib/python3.8/dist-packages (from salesforce-cdp-connector) (2021.3)\n",
      "Requirement already satisfied: urllib3==1.26.8 in /usr/local/lib/python3.8/dist-packages (from salesforce-cdp-connector) (1.26.8)\n",
      "Requirement already satisfied: pip==22.0.4 in /usr/local/lib/python3.8/dist-packages (from salesforce-cdp-connector) (22.0.4)\n",
      "Requirement already satisfied: certifi==2021.10.8 in /usr/local/lib/python3.8/dist-packages (from salesforce-cdp-connector) (2021.10.8)\n",
      "Requirement already satisfied: responses==0.16.0 in /usr/local/lib/python3.8/dist-packages (from salesforce-cdp-connector) (0.16.0)\n",
      "Requirement already satisfied: setuptools==60.9.3 in /usr/local/lib/python3.8/dist-packages (from salesforce-cdp-connector) (60.9.3)\n",
      "Requirement already satisfied: charset-normalizer==2.0.10 in /usr/local/lib/python3.8/dist-packages (from salesforce-cdp-connector) (2.0.10)\n",
      "Requirement already satisfied: python-dateutil==2.8.2 in /usr/local/lib/python3.8/dist-packages (from salesforce-cdp-connector) (2.8.2)\n",
      "Requirement already satisfied: idna==3.3 in /usr/local/lib/python3.8/dist-packages (from salesforce-cdp-connector) (3.3)\n",
      "Requirement already satisfied: six==1.16.0 in /usr/local/lib/python3.8/dist-packages (from salesforce-cdp-connector) (1.16.0)\n",
      "Requirement already satisfied: wheel==0.37.1 in /usr/local/lib/python3.8/dist-packages (from salesforce-cdp-connector) (0.37.1)\n",
      "\u001b[33mWARNING: Running pip as the 'root' user can result in broken permissions and conflicting behaviour with the system package manager. It is recommended to use a virtual environment instead: https://pip.pypa.io/warnings/venv\u001b[0m\u001b[33m\n",
      "\u001b[0m\u001b[33mWARNING: You are using pip version 22.0.4; however, version 23.0 is available.\n",
      "You should consider upgrading via the '/usr/bin/python3 -m pip install --upgrade pip' command.\u001b[0m\u001b[33m\n",
      "\u001b[0m"
     ]
    }
   ],
   "source": [
    "!pip install salesforce-cdp-connector"
   ]
  },
  {
   "cell_type": "code",
   "execution_count": 14,
   "id": "8eca7198-55d5-432a-bff5-4790d7b9ca79",
   "metadata": {
    "tags": []
   },
   "outputs": [
    {
     "name": "stdout",
     "output_type": "stream",
     "text": [
      "1.0.2\n",
      "Requirement already satisfied: sagemaker in /usr/local/lib/python3.8/dist-packages (2.131.0)\n",
      "Requirement already satisfied: importlib-metadata<5.0,>=1.4.0 in /usr/local/lib/python3.8/dist-packages (from sagemaker) (4.10.1)\n",
      "Requirement already satisfied: schema in /usr/local/lib/python3.8/dist-packages (from sagemaker) (0.7.5)\n",
      "Requirement already satisfied: protobuf<4.0,>=3.1 in /usr/local/lib/python3.8/dist-packages (from sagemaker) (3.19.3)\n",
      "Requirement already satisfied: pandas in /usr/local/lib/python3.8/dist-packages (from sagemaker) (1.3.5)\n",
      "Requirement already satisfied: pathos in /usr/local/lib/python3.8/dist-packages (from sagemaker) (0.2.8)\n",
      "Requirement already satisfied: google-pasta in /usr/local/lib/python3.8/dist-packages (from sagemaker) (0.2.0)\n",
      "Requirement already satisfied: protobuf3-to-dict<1.0,>=0.1.5 in /usr/local/lib/python3.8/dist-packages (from sagemaker) (0.1.5)\n",
      "Requirement already satisfied: attrs<23,>=20.3.0 in /usr/local/lib/python3.8/dist-packages (from sagemaker) (21.4.0)\n",
      "Requirement already satisfied: smdebug-rulesconfig==1.0.1 in /usr/local/lib/python3.8/dist-packages (from sagemaker) (1.0.1)\n",
      "Requirement already satisfied: boto3<2.0,>=1.26.28 in /usr/local/lib/python3.8/dist-packages (from sagemaker) (1.26.62)\n",
      "Requirement already satisfied: numpy<2.0,>=1.9.0 in /usr/local/lib/python3.8/dist-packages (from sagemaker) (1.22.2)\n",
      "Requirement already satisfied: packaging>=20.0 in /usr/local/lib/python3.8/dist-packages (from sagemaker) (21.3)\n",
      "Requirement already satisfied: s3transfer<0.7.0,>=0.6.0 in /usr/local/lib/python3.8/dist-packages (from boto3<2.0,>=1.26.28->sagemaker) (0.6.0)\n",
      "Requirement already satisfied: jmespath<2.0.0,>=0.7.1 in /usr/local/lib/python3.8/dist-packages (from boto3<2.0,>=1.26.28->sagemaker) (0.10.0)\n",
      "Requirement already satisfied: botocore<1.30.0,>=1.29.62 in /usr/local/lib/python3.8/dist-packages (from boto3<2.0,>=1.26.28->sagemaker) (1.29.62)\n",
      "Requirement already satisfied: zipp>=0.5 in /usr/local/lib/python3.8/dist-packages (from importlib-metadata<5.0,>=1.4.0->sagemaker) (3.7.0)\n",
      "Requirement already satisfied: pyparsing!=3.0.5,>=2.0.2 in /usr/local/lib/python3.8/dist-packages (from packaging>=20.0->sagemaker) (3.0.7)\n",
      "Requirement already satisfied: six in /usr/local/lib/python3.8/dist-packages (from protobuf3-to-dict<1.0,>=0.1.5->sagemaker) (1.16.0)\n",
      "Requirement already satisfied: pytz>=2017.3 in /usr/local/lib/python3.8/dist-packages (from pandas->sagemaker) (2021.3)\n",
      "Requirement already satisfied: python-dateutil>=2.7.3 in /usr/local/lib/python3.8/dist-packages (from pandas->sagemaker) (2.8.2)\n",
      "Requirement already satisfied: pox>=0.3.0 in /usr/local/lib/python3.8/dist-packages (from pathos->sagemaker) (0.3.0)\n",
      "Requirement already satisfied: multiprocess>=0.70.12 in /usr/local/lib/python3.8/dist-packages (from pathos->sagemaker) (0.70.12.2)\n",
      "Requirement already satisfied: ppft>=1.6.6.4 in /usr/local/lib/python3.8/dist-packages (from pathos->sagemaker) (1.6.6.4)\n",
      "Requirement already satisfied: dill>=0.3.4 in /usr/local/lib/python3.8/dist-packages (from pathos->sagemaker) (0.3.4)\n",
      "Requirement already satisfied: contextlib2>=0.5.5 in /usr/local/lib/python3.8/dist-packages (from schema->sagemaker) (21.6.0)\n",
      "Requirement already satisfied: urllib3<1.27,>=1.25.4 in /usr/local/lib/python3.8/dist-packages (from botocore<1.30.0,>=1.29.62->boto3<2.0,>=1.26.28->sagemaker) (1.26.8)\n",
      "\u001b[33mWARNING: Running pip as the 'root' user can result in broken permissions and conflicting behaviour with the system package manager. It is recommended to use a virtual environment instead: https://pip.pypa.io/warnings/venv\u001b[0m\u001b[33m\n",
      "\u001b[0m\u001b[33mWARNING: You are using pip version 22.0.4; however, version 23.0 is available.\n",
      "You should consider upgrading via the '/usr/bin/python3 -m pip install --upgrade pip' command.\u001b[0m\u001b[33m\n",
      "\u001b[0m"
     ]
    }
   ],
   "source": [
    "# Get sklearn version and make sure that image version supports it\n",
    "import sklearn\n",
    "print(sklearn.__version__)\n",
    "!pip install sagemaker --upgrade\n",
    "# https://docs.aws.amazon.com/sagemaker/latest/dg/sklearn.html"
   ]
  },
  {
   "cell_type": "code",
   "execution_count": 4,
   "id": "df2fc7d2-ed69-4605-9cd1-6578d702bdc3",
   "metadata": {},
   "outputs": [
    {
     "name": "stdout",
     "output_type": "stream",
     "text": [
      "sagemaker-us-east-1-768394235073\n"
     ]
    }
   ],
   "source": [
    "from salesforcecdpconnector.connection import SalesforceCDPConnection\n",
    "\n",
    "import pandas as pd\n",
    "from sklearn.model_selection import train_test_split\n",
    "from sklearn.metrics import accuracy_score\n",
    "from sklearn.ensemble import RandomForestClassifier\n",
    "\n",
    "import sagemaker\n",
    "\n",
    "import joblib\n",
    "\n",
    "import boto3\n",
    "from botocore.exceptions import ClientError\n",
    "\n",
    "import json\n",
    "\n",
    "import os\n",
    "#import pickle\n",
    "#import tarfile\n",
    "#from sagemaker.estimator import Estimator\n",
    "import time\n",
    "from time import gmtime, strftime\n",
    "import subprocess\n",
    "\n",
    "role = \"arn:aws:iam::768394235073:role/service-role/AmazonSageMaker-ExecutionRole-20220810T125482\"\n",
    "sagemaker_session = sagemaker.Session()\n",
    "#Bucket for model artifacts \n",
    "bucket = sagemaker_session.default_bucket()\n",
    "print(bucket)\n",
    "\n",
    "project_name = \"genie_email_rf_demo\"\n",
    "end_point_prefix = \"genie-email-rf-demo\"\n",
    "\n",
    "secret_name = \"genie/jdbc\"\n",
    "region_name = \"us-east-1\"\n",
    "\n",
    "# Create a Secrets Manager client\n",
    "session = boto3.session.Session()\n",
    "region_name = session.region_name\n",
    "\n",
    "s3 = session.resource('s3')\n",
    "\n",
    "sagemaker_client = session.client(\n",
    "    service_name='sagemaker',\n",
    "    region_name=region_name\n",
    ")\n",
    "\n",
    "runtime_client = session.client(\n",
    "    service_name ='sagemaker-runtime',\n",
    "    region_name=region_name\n",
    ")\n",
    "\n",
    "secretsmanager_client = session.client(\n",
    "    service_name='secretsmanager',\n",
    "    region_name=region_name\n",
    ")\n",
    "\n",
    "try:\n",
    "    get_secret_value_response = secretsmanager_client.get_secret_value(\n",
    "        SecretId=secret_name\n",
    "    )\n",
    "except ClientError as e:\n",
    "    # For a list of exceptions thrown, see\n",
    "    # https://docs.aws.amazon.com/secretsmanager/latest/apireference/API_GetSecretValue.html\n",
    "    raise e\n",
    "\n",
    "# Decrypts secret using the associated KMS key.\n",
    "cred = json.loads(get_secret_value_response['SecretString'])\n",
    "\n",
    "\n",
    "conn = SalesforceCDPConnection(\n",
    "        cred['AppUrl'], \n",
    "        cred['user'], \n",
    "        cred['password'], \n",
    "        cred['clientId'], \n",
    "        cred['clientSecret']\n",
    "    )"
   ]
  },
  {
   "cell_type": "code",
   "execution_count": 5,
   "id": "91c138b2-1b0f-452c-991d-88fa18125f5c",
   "metadata": {
    "tags": []
   },
   "outputs": [
    {
     "data": {
      "text/html": [
       "<div>\n",
       "<style scoped>\n",
       "    .dataframe tbody tr th:only-of-type {\n",
       "        vertical-align: middle;\n",
       "    }\n",
       "\n",
       "    .dataframe tbody tr th {\n",
       "        vertical-align: top;\n",
       "    }\n",
       "\n",
       "    .dataframe thead th {\n",
       "        text-align: right;\n",
       "    }\n",
       "</style>\n",
       "<table border=\"1\" class=\"dataframe\">\n",
       "  <thead>\n",
       "    <tr style=\"text-align: right;\">\n",
       "      <th></th>\n",
       "      <th>engagement_type__c</th>\n",
       "      <th>engagement_count__c</th>\n",
       "    </tr>\n",
       "  </thead>\n",
       "  <tbody>\n",
       "    <tr>\n",
       "      <th>0</th>\n",
       "      <td>Send</td>\n",
       "      <td>1.000000000000000000</td>\n",
       "    </tr>\n",
       "    <tr>\n",
       "      <th>1</th>\n",
       "      <td>Send</td>\n",
       "      <td>2.000000000000000000</td>\n",
       "    </tr>\n",
       "    <tr>\n",
       "      <th>2</th>\n",
       "      <td>Send</td>\n",
       "      <td>1.000000000000000000</td>\n",
       "    </tr>\n",
       "  </tbody>\n",
       "</table>\n",
       "</div>"
      ],
      "text/plain": [
       "  engagement_type__c   engagement_count__c\n",
       "0               Send  1.000000000000000000\n",
       "1               Send  2.000000000000000000\n",
       "2               Send  1.000000000000000000"
      ]
     },
     "execution_count": 5,
     "metadata": {},
     "output_type": "execute_result"
    }
   ],
   "source": [
    "curs = conn.cursor()\n",
    "query = \"SELECT engagement_type__c, engagement_count__c FROM email_engagement_insight__cio limit 900000\"\n",
    "curs.execute(query)\n",
    "df = pd.DataFrame(curs.fetchall());\n",
    "df.columns = ['engagement_type__c','engagement_count__c']\n",
    "df.head(3)"
   ]
  },
  {
   "cell_type": "code",
   "execution_count": 6,
   "id": "f05eb718-24ec-48ff-a6ef-5f793ef8ee32",
   "metadata": {},
   "outputs": [],
   "source": [
    "X = df.drop([\"engagement_type__c\"], axis=1)\n",
    "y = df[\"engagement_type__c\"]\n",
    "X_train, X_test, y_train, y_test = train_test_split(X, y, test_size=0.2)"
   ]
  },
  {
   "cell_type": "code",
   "execution_count": 7,
   "id": "559956ce-6a72-4862-85ce-7322e73f38c0",
   "metadata": {
    "tags": []
   },
   "outputs": [
    {
     "name": "stdout",
     "output_type": "stream",
     "text": [
      "0.6918059328043673\n"
     ]
    }
   ],
   "source": [
    "\n",
    "\n",
    "model = RandomForestClassifier()\n",
    "model.fit(X_train, y_train)\n",
    "\n",
    "y_pred = model.predict(X_test)\n",
    "\n",
    "\n",
    "\n",
    "accuracy = accuracy_score(y_test, y_pred)\n",
    "print(accuracy)\n"
   ]
  },
  {
   "cell_type": "code",
   "execution_count": 8,
   "id": "fa9fd3cc-4ecb-4913-ab15-5807edea6ed9",
   "metadata": {
    "tags": []
   },
   "outputs": [],
   "source": [
    "# Save model artifacts to S3\n",
    "\n",
    "with open('model.joblib', 'wb') as f:\n",
    "    joblib.dump(model,f)\n",
    "\n",
    "#Build tar file with model data + inference code \n",
    "bashCommand = \"tar -cvpzf model.tar.gz model.joblib inference.py\"\n",
    "process = subprocess.Popen(bashCommand.split(), stdout=subprocess.PIPE)\n",
    "output, error = process.communicate()\n",
    "\n",
    "#Upload tar.gz to bucket\n",
    "model_artifacts = f\"s3://{bucket}/{project_name}/model.tar.gz\"\n",
    "response = s3.meta.client.upload_file('model.tar.gz', bucket, project_name+'/model.tar.gz')\n"
   ]
  },
  {
   "cell_type": "code",
   "execution_count": 9,
   "id": "97255b3d-697a-4a24-9e29-b7afeebbcebb",
   "metadata": {
    "tags": []
   },
   "outputs": [],
   "source": [
    "# retrieve sklearn image \n",
    "image_uri = sagemaker.image_uris.retrieve(\n",
    "    framework=\"sklearn\",\n",
    "    region=region_name,\n",
    "    version=\"1.0-1\",\n",
    "    py_version=\"py3\",\n",
    "    instance_type=\"ml.m5.xlarge\",\n",
    ")"
   ]
  },
  {
   "cell_type": "code",
   "execution_count": 10,
   "id": "bf7ec083-88c8-4d17-981c-9f8bfc680761",
   "metadata": {
    "tags": []
   },
   "outputs": [
    {
     "name": "stdout",
     "output_type": "stream",
     "text": [
      "Model name: genie-email-rf-demo2023-02-01-23-00-23\n",
      "Model Arn: arn:aws:sagemaker:us-east-1:768394235073:model/genie-email-rf-demo2023-02-01-23-00-23\n"
     ]
    }
   ],
   "source": [
    "#Step 1: Model Creation \n",
    "model_name = end_point_prefix + strftime(\"%Y-%m-%d-%H-%M-%S\", gmtime())\n",
    "print(\"Model name: \" + model_name)\n",
    "create_model_response = sagemaker_client.create_model(\n",
    "    ModelName=model_name,\n",
    "    Containers=[\n",
    "        {\n",
    "            \"Image\": image_uri,\n",
    "            \"Mode\": \"SingleModel\",\n",
    "            \"ModelDataUrl\": model_artifacts,\n",
    "            \"Environment\": {'SAGEMAKER_SUBMIT_DIRECTORY': model_artifacts,\n",
    "                           'SAGEMAKER_PROGRAM': 'inference.py'} \n",
    "        }\n",
    "    ],\n",
    "    ExecutionRoleArn=role,\n",
    ")\n",
    "print(\"Model Arn: \" + create_model_response[\"ModelArn\"])\n"
   ]
  },
  {
   "cell_type": "code",
   "execution_count": 11,
   "id": "3bce73d5-c6fa-4914-ad09-a683c194e4d6",
   "metadata": {
    "tags": []
   },
   "outputs": [
    {
     "name": "stdout",
     "output_type": "stream",
     "text": [
      "Endpoint Configuration Arn: arn:aws:sagemaker:us-east-1:768394235073:endpoint-config/genie-email-rf-demo2023-02-01-23-00-24\n"
     ]
    }
   ],
   "source": [
    "#Step 2: EPC Creation \n",
    "sklearn_epc_name = end_point_prefix + strftime(\"%Y-%m-%d-%H-%M-%S\", gmtime())\n",
    "endpoint_config_response = sagemaker_client.create_endpoint_config(\n",
    "    EndpointConfigName=sklearn_epc_name,\n",
    "    ProductionVariants=[\n",
    "        {\n",
    "            \"VariantName\": \"sklearnvariant\",\n",
    "            \"ModelName\": model_name,\n",
    "            \"InstanceType\": \"ml.c5.large\",\n",
    "            \"InitialInstanceCount\": 1\n",
    "        },\n",
    "    ],\n",
    ")\n",
    "print(\"Endpoint Configuration Arn: \" + endpoint_config_response[\"EndpointConfigArn\"])\n"
   ]
  },
  {
   "cell_type": "code",
   "execution_count": 12,
   "id": "1f0537c7-4772-46bb-a947-f6fa70c9949e",
   "metadata": {
    "tags": []
   },
   "outputs": [
    {
     "name": "stdout",
     "output_type": "stream",
     "text": [
      "Endpoint Arn: arn:aws:sagemaker:us-east-1:768394235073:endpoint/genie-email-rf-demo2023-02-01-23-00-24\n",
      "Creating\n",
      "Creating\n",
      "Creating\n",
      "Creating\n",
      "Creating\n",
      "Creating\n",
      "Creating\n",
      "Creating\n",
      "Creating\n",
      "Creating\n",
      "InService\n",
      "{'EndpointName': 'genie-email-rf-demo2023-02-01-23-00-24', 'EndpointArn': 'arn:aws:sagemaker:us-east-1:768394235073:endpoint/genie-email-rf-demo2023-02-01-23-00-24', 'EndpointConfigName': 'genie-email-rf-demo2023-02-01-23-00-24', 'ProductionVariants': [{'VariantName': 'sklearnvariant', 'DeployedImages': [{'SpecifiedImage': '683313688378.dkr.ecr.us-east-1.amazonaws.com/sagemaker-scikit-learn:1.0-1-cpu-py3', 'ResolvedImage': '683313688378.dkr.ecr.us-east-1.amazonaws.com/sagemaker-scikit-learn@sha256:08013d6ec06abb5f848882c5026a68b64dbddf1a76eaeb4d1b5c94e244869944', 'ResolutionTime': datetime.datetime(2023, 2, 1, 23, 0, 25, 240000, tzinfo=tzlocal())}], 'CurrentWeight': 1.0, 'DesiredWeight': 1.0, 'CurrentInstanceCount': 1, 'DesiredInstanceCount': 1}], 'EndpointStatus': 'InService', 'CreationTime': datetime.datetime(2023, 2, 1, 23, 0, 24, 595000, tzinfo=tzlocal()), 'LastModifiedTime': datetime.datetime(2023, 2, 1, 23, 2, 50, 673000, tzinfo=tzlocal()), 'ResponseMetadata': {'RequestId': 'afae015e-b996-44b1-9358-fec20c0434a2', 'HTTPStatusCode': 200, 'HTTPHeaders': {'x-amzn-requestid': 'afae015e-b996-44b1-9358-fec20c0434a2', 'content-type': 'application/x-amz-json-1.1', 'content-length': '780', 'date': 'Wed, 01 Feb 2023 23:02:55 GMT'}, 'RetryAttempts': 0}}\n"
     ]
    }
   ],
   "source": [
    "#Step 3: EP Creation \n",
    "endpoint_name = end_point_prefix + strftime(\"%Y-%m-%d-%H-%M-%S\", gmtime())\n",
    "create_endpoint_response = sagemaker_client.create_endpoint(\n",
    "    EndpointName=endpoint_name,\n",
    "    EndpointConfigName=sklearn_epc_name,\n",
    ")\n",
    "print(\"Endpoint Arn: \" + create_endpoint_response[\"EndpointArn\"])\n",
    "\n",
    "\n",
    "#Monitor creation\n",
    "describe_endpoint_response = sagemaker_client.describe_endpoint(EndpointName=endpoint_name)\n",
    "while describe_endpoint_response[\"EndpointStatus\"] == \"Creating\":\n",
    "    describe_endpoint_response = sagemaker_client.describe_endpoint(EndpointName=endpoint_name)\n",
    "    print(describe_endpoint_response[\"EndpointStatus\"])\n",
    "    time.sleep(15)\n",
    "print(describe_endpoint_response)\n"
   ]
  },
  {
   "cell_type": "code",
   "execution_count": 13,
   "id": "8809ce94-d874-44a9-ab17-5588432a495d",
   "metadata": {
    "tags": []
   },
   "outputs": [
    {
     "name": "stdout",
     "output_type": "stream",
     "text": [
      "['Send']\n"
     ]
    }
   ],
   "source": [
    "\n",
    "#runtime_client = boto3.client('sagemaker-runtime')\n",
    "content_type = \"application/json\"\n",
    "request_body = {\"Input\": [['2.000000000000000000']]}\n",
    "data = json.loads(json.dumps(request_body))\n",
    "payload = json.dumps(data)\n",
    "endpoint_name = describe_endpoint_response['EndpointName']\n",
    "\n",
    "\n",
    "response = runtime_client.invoke_endpoint(\n",
    "    EndpointName=endpoint_name,\n",
    "    ContentType=content_type,\n",
    "    Body=payload)\n",
    "result = json.loads(response['Body'].read().decode())['Output']\n",
    "print(result)\n"
   ]
  },
  {
   "cell_type": "code",
   "execution_count": null,
   "id": "0991aeef-f717-4262-81ce-e8ca504da956",
   "metadata": {},
   "outputs": [],
   "source": []
  }
 ],
 "metadata": {
  "instance_type": "ml.m5.large",
  "kernelspec": {
   "display_name": "Python 3 (MXNet 1.9 Python 3.8 CPU Optimized)",
   "language": "python",
   "name": "python3__SAGEMAKER_INTERNAL__arn:aws:sagemaker:us-east-1:081325390199:image/mxnet-1.9-cpu-py38-ubuntu20.04-sagemaker-v1.0"
  },
  "language_info": {
   "codemirror_mode": {
    "name": "ipython",
    "version": 3
   },
   "file_extension": ".py",
   "mimetype": "text/x-python",
   "name": "python",
   "nbconvert_exporter": "python",
   "pygments_lexer": "ipython3",
   "version": "3.8.10"
  }
 },
 "nbformat": 4,
 "nbformat_minor": 5
}
